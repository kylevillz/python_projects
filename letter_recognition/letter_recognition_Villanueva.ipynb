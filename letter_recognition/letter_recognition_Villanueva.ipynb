{
 "cells": [
  {
   "cell_type": "code",
   "execution_count": 1,
   "id": "f147803b",
   "metadata": {},
   "outputs": [],
   "source": [
    "from tensorflow.keras.preprocessing.image import ImageDataGenerator\n",
    "from tensorflow.keras.preprocessing import image\n",
    "from tensorflow.keras.optimizers import RMSprop\n",
    "import matplotlib.pyplot as plt\n",
    "import tensorflow as tf\n",
    "import numpy as np\n",
    "import cv2\n",
    "import os"
   ]
  },
  {
   "cell_type": "code",
   "execution_count": 2,
   "id": "23c93e26",
   "metadata": {},
   "outputs": [],
   "source": [
    "img = image.load_img(\"C:/Users/kylev/Desktop/time-series/dataset(pattern_recognition)/training/capital/1.PNG\")"
   ]
  },
  {
   "cell_type": "code",
   "execution_count": 3,
   "id": "72950c2b",
   "metadata": {},
   "outputs": [
    {
     "data": {
      "text/plain": [
       "<matplotlib.image.AxesImage at 0x22861864ee0>"
      ]
     },
     "execution_count": 3,
     "metadata": {},
     "output_type": "execute_result"
    },
    {
     "data": {
      "image/png": "[encoded data removed]",
      "text/plain": [
       "<Figure size 432x288 with 1 Axes>"
      ]
     },
     "metadata": {
      "needs_background": "light"
     },
     "output_type": "display_data"
    }
   ],
   "source": [
    "plt.imshow(img)"
   ]
  },
  {
   "cell_type": "code",
   "execution_count": 4,
   "id": "91568c43",
   "metadata": {},
   "outputs": [
    {
     "data": {
      "text/plain": [
       "array([[[255, 255, 255],\n",
       "        [255, 255, 255],\n",
       "        [255, 255, 255],\n",
       "        ...,\n",
       "        [255, 255, 255],\n",
       "        [255, 255, 255],\n",
       "        [255, 255, 255]],\n",
       "\n",
       "       [[255, 255, 255],\n",
       "        [255, 255, 255],\n",
       "        [255, 255, 255],\n",
       "        ...,\n",
       "        [255, 255, 255],\n",
       "        [255, 255, 255],\n",
       "        [255, 255, 255]],\n",
       "\n",
       "       [[255, 255, 255],\n",
       "        [255, 255, 255],\n",
       "        [255, 255, 255],\n",
       "        ...,\n",
       "        [255, 255, 255],\n",
       "        [255, 255, 255],\n",
       "        [255, 255, 255]],\n",
       "\n",
       "       ...,\n",
       "\n",
       "       [[255, 255, 255],\n",
       "        [255, 255, 255],\n",
       "        [255, 255, 255],\n",
       "        ...,\n",
       "        [255, 255, 255],\n",
       "        [255, 255, 255],\n",
       "        [255, 255, 255]],\n",
       "\n",
       "       [[255, 255, 255],\n",
       "        [255, 255, 255],\n",
       "        [255, 255, 255],\n",
       "        ...,\n",
       "        [255, 255, 255],\n",
       "        [255, 255, 255],\n",
       "        [255, 255, 255]],\n",
       "\n",
       "       [[255, 255, 255],\n",
       "        [255, 255, 255],\n",
       "        [255, 255, 255],\n",
       "        ...,\n",
       "        [255, 255, 255],\n",
       "        [255, 255, 255],\n",
       "        [255, 255, 255]]], dtype=uint8)"
      ]
     },
     "execution_count": 4,
     "metadata": {},
     "output_type": "execute_result"
    }
   ],
   "source": [
    "cv2.imread(\"C:/Users/kylev/Desktop/time-series/dataset(pattern_recognition)/training/capital/1.PNG\")"
   ]
  },
  {
   "cell_type": "code",
   "execution_count": 5,
   "id": "b5b7f775",
   "metadata": {},
   "outputs": [],
   "source": [
    "train = ImageDataGenerator(rescale= 1/255)\n",
    "validation = ImageDataGenerator(rescale= 1/255)"
   ]
  },
  {
   "cell_type": "code",
   "execution_count": 6,
   "id": "02b69129",
   "metadata": {},
   "outputs": [
    {
     "name": "stdout",
     "output_type": "stream",
     "text": [
      "Found 30 images belonging to 2 classes.\n",
      "Found 0 images belonging to 0 classes.\n"
     ]
    }
   ],
   "source": [
    "train_dataset = train.flow_from_directory('C:/Users/kylev/Desktop/time-series/dataset(pattern_recognition)/training/',\n",
    "                                         target_size = (200,200),\n",
    "                                         batch_size = 3,\n",
    "                                         class_mode = 'binary')\n",
    "\n",
    "validation_dataset = validation.flow_from_directory('C:/Users/kylev/Desktop/time-series/dataset(pattern_recognition)/test/',\n",
    "                                         target_size = (200,200),\n",
    "                                         batch_size = 3,\n",
    "                                         class_mode = 'binary')"
   ]
  },
  {
   "cell_type": "code",
   "execution_count": 7,
   "id": "f02a84cd",
   "metadata": {},
   "outputs": [],
   "source": [
    "model = tf.keras.models.Sequential([ tf.keras.layers.Conv2D(16,(3,3),activation = 'relu',input_shape = (200,200,3)),\n",
    "                                   tf.keras.layers.MaxPool2D(2,2),\n",
    "                                   #\n",
    "                                   tf.keras.layers.Conv2D(32,(3,3),activation = 'relu'),\n",
    "                                   tf.keras.layers.MaxPool2D(2,2),\n",
    "                                   #\n",
    "                                   tf.keras.layers.Conv2D(64,(3,3),activation = 'relu'),\n",
    "                                   tf.keras.layers.MaxPool2D(2,2),\n",
    "                                   ##\n",
    "                                   tf.keras.layers.Flatten(),\n",
    "                                   ##\n",
    "                                   tf.keras.layers.Dense(512,activation = 'relu'),\n",
    "                                   ##\n",
    "                                   tf.keras.layers.Dense(1,activation = 'sigmoid')\n",
    "                                   ])"
   ]
  },
  {
   "cell_type": "code",
   "execution_count": 8,
   "id": "1303fc7b",
   "metadata": {},
   "outputs": [],
   "source": [
    "model.compile(loss = 'binary_crossentropy',\n",
    "             optimizer =  RMSprop(learning_rate=0.001),\n",
    "             metrics = ['accuracy'])"
   ]
  },
  {
   "cell_type": "code",
   "execution_count": 9,
   "id": "96504782",
   "metadata": {},
   "outputs": [
    {
     "name": "stdout",
     "output_type": "stream",
     "text": [
      "Epoch 1/20\n",
      "3/3 [==============================] - 2s 424ms/step - loss: 11.7722 - accuracy: 0.3333\n",
      "Epoch 2/20\n",
      "3/3 [==============================] - 1s 421ms/step - loss: 0.9079 - accuracy: 0.5556\n",
      "Epoch 3/20\n",
      "3/3 [==============================] - 1s 442ms/step - loss: 0.8493 - accuracy: 0.6667\n",
      "Epoch 4/20\n",
      "3/3 [==============================] - 1s 402ms/step - loss: 0.8448 - accuracy: 0.7778\n",
      "Epoch 5/20\n",
      "3/3 [==============================] - 1s 392ms/step - loss: 0.3278 - accuracy: 0.8889\n",
      "Epoch 6/20\n",
      "3/3 [==============================] - 1s 412ms/step - loss: 0.0489 - accuracy: 1.0000\n",
      "Epoch 7/20\n",
      "3/3 [==============================] - 1s 369ms/step - loss: 0.0356 - accuracy: 1.0000\n",
      "Epoch 8/20\n",
      "3/3 [==============================] - 1s 363ms/step - loss: 0.0039 - accuracy: 1.0000\n",
      "Epoch 9/20\n",
      "3/3 [==============================] - 1s 374ms/step - loss: 0.0037 - accuracy: 1.0000\n",
      "Epoch 10/20\n",
      "3/3 [==============================] - 1s 375ms/step - loss: 0.0214 - accuracy: 1.0000\n",
      "Epoch 11/20\n",
      "3/3 [==============================] - 1s 372ms/step - loss: 0.0025 - accuracy: 1.0000\n",
      "Epoch 12/20\n",
      "3/3 [==============================] - 1s 425ms/step - loss: 0.0069 - accuracy: 1.0000\n",
      "Epoch 13/20\n",
      "3/3 [==============================] - 1s 410ms/step - loss: 0.0015 - accuracy: 1.0000\n",
      "Epoch 14/20\n",
      "3/3 [==============================] - 1s 363ms/step - loss: 3.9244e-04 - accuracy: 1.0000\n",
      "Epoch 15/20\n",
      "3/3 [==============================] - 1s 425ms/step - loss: 3.2204e-04 - accuracy: 1.0000\n",
      "Epoch 16/20\n",
      "3/3 [==============================] - 1s 416ms/step - loss: 2.7867e-04 - accuracy: 1.0000\n",
      "Epoch 17/20\n",
      "3/3 [==============================] - 1s 393ms/step - loss: 3.3166e-04 - accuracy: 1.0000\n",
      "Epoch 18/20\n",
      "3/3 [==============================] - 1s 455ms/step - loss: 3.5108e-04 - accuracy: 1.0000\n",
      "Epoch 19/20\n",
      "3/3 [==============================] - 1s 431ms/step - loss: 2.1111e-04 - accuracy: 1.0000\n",
      "Epoch 20/20\n",
      "3/3 [==============================] - 1s 402ms/step - loss: 1.6019e-04 - accuracy: 1.0000\n"
     ]
    }
   ],
   "source": [
    "model_fit = model.fit(train_dataset,\n",
    "                     steps_per_epoch = 3,\n",
    "                     epochs = 20,\n",
    "                     validation_data = validation_dataset)"
   ]
  },
  {
   "cell_type": "code",
   "execution_count": 10,
   "id": "0ca6655c",
   "metadata": {},
   "outputs": [
    {
     "data": {
      "image/png": "[encoded data removed]",
      "text/plain": [
       "<Figure size 432x288 with 1 Axes>"
      ]
     },
     "metadata": {
      "needs_background": "light"
     },
     "output_type": "display_data"
    },
    {
     "name": "stdout",
     "output_type": "stream",
     "text": [
      "This is probably a uppercase A.\n"
     ]
    },
    {
     "data": {
      "image/png": "[encoded data removed]",
      "text/plain": [
       "<Figure size 432x288 with 1 Axes>"
      ]
     },
     "metadata": {
      "needs_background": "light"
     },
     "output_type": "display_data"
    },
    {
     "name": "stdout",
     "output_type": "stream",
     "text": [
      "This is probably an lowercase a.\n"
     ]
    },
    {
     "data": {
      "image/png": "[encoded data removed]",
      "text/plain": [
       "<Figure size 432x288 with 1 Axes>"
      ]
     },
     "metadata": {
      "needs_background": "light"
     },
     "output_type": "display_data"
    },
    {
     "name": "stdout",
     "output_type": "stream",
     "text": [
      "This is probably a uppercase A.\n"
     ]
    },
    {
     "data": {
      "image/png": "[encoded data removed]",
      "text/plain": [
       "<Figure size 432x288 with 1 Axes>"
      ]
     },
     "metadata": {
      "needs_background": "light"
     },
     "output_type": "display_data"
    },
    {
     "name": "stdout",
     "output_type": "stream",
     "text": [
      "This is probably a uppercase A.\n"
     ]
    },
    {
     "data": {
      "image/png": "[encoded data removed]",
      "text/plain": [
       "<Figure size 432x288 with 1 Axes>"
      ]
     },
     "metadata": {
      "needs_background": "light"
     },
     "output_type": "display_data"
    },
    {
     "name": "stdout",
     "output_type": "stream",
     "text": [
      "This is probably a uppercase A.\n"
     ]
    },
    {
     "data": {
      "image/png": "[encoded data removed]",
      "text/plain": [
       "<Figure size 432x288 with 1 Axes>"
      ]
     },
     "metadata": {
      "needs_background": "light"
     },
     "output_type": "display_data"
    },
    {
     "name": "stdout",
     "output_type": "stream",
     "text": [
      "This is probably a uppercase A.\n"
     ]
    },
    {
     "data": {
      "image/png": "[encoded data removed]",
      "text/plain": [
       "<Figure size 432x288 with 1 Axes>"
      ]
     },
     "metadata": {
      "needs_background": "light"
     },
     "output_type": "display_data"
    },
    {
     "name": "stdout",
     "output_type": "stream",
     "text": [
      "This is probably an lowercase a.\n"
     ]
    },
    {
     "data": {
      "image/png": "[encoded data removed]",
      "text/plain": [
       "<Figure size 432x288 with 1 Axes>"
      ]
     },
     "metadata": {
      "needs_background": "light"
     },
     "output_type": "display_data"
    },
    {
     "name": "stdout",
     "output_type": "stream",
     "text": [
      "This is probably an lowercase a.\n"
     ]
    },
    {
     "data": {
      "image/png": "[encoded data removed]",
      "text/plain": [
       "<Figure size 432x288 with 1 Axes>"
      ]
     },
     "metadata": {
      "needs_background": "light"
     },
     "output_type": "display_data"
    },
    {
     "name": "stdout",
     "output_type": "stream",
     "text": [
      "This is probably an lowercase a.\n"
     ]
    },
    {
     "data": {
      "image/png": "[encoded data removed]",
      "text/plain": [
       "<Figure size 432x288 with 1 Axes>"
      ]
     },
     "metadata": {
      "needs_background": "light"
     },
     "output_type": "display_data"
    },
    {
     "name": "stdout",
     "output_type": "stream",
     "text": [
      "This is probably an lowercase a.\n"
     ]
    }
   ],
   "source": [
    "dir_path = 'C:/Users/kylev/Desktop/time-series/dataset(pattern_recognition)/test'\n",
    "\n",
    "for i in os.listdir(dir_path ):\n",
    "    img = image.load_img(dir_path + '//' + i,target_size=(200,200))\n",
    "    plt.imshow(img)\n",
    "    plt.show()\n",
    "    \n",
    "    X = image.img_to_array(img)\n",
    "    X = np.expand_dims(X,axis = 0)\n",
    "    images = np.vstack([X])\n",
    "    val = model.predict(images)\n",
    "    if val == 0:\n",
    "        print(\"This is probably a uppercase A.\")\n",
    "    else:\n",
    "        print(\"This is probably an lowercase a.\")"
   ]
  },
  {
   "cell_type": "code",
   "execution_count": null,
   "id": "c756bc59",
   "metadata": {},
   "outputs": [],
   "source": []
  }
 ],
 "metadata": {
  "kernelspec": {
   "display_name": "Python 3 (ipykernel)",
   "language": "python",
   "name": "python3"
  },
  "language_info": {
   "codemirror_mode": {
    "name": "ipython",
    "version": 3
   },
   "file_extension": ".py",
   "mimetype": "text/x-python",
   "name": "python",
   "nbconvert_exporter": "python",
   "pygments_lexer": "ipython3",
   "version": "3.10.4"
  }
 },
 "nbformat": 4,
 "nbformat_minor": 5
}
